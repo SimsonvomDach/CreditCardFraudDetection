{
 "cells": [
  {
   "cell_type": "markdown",
   "metadata": {},
   "source": [
    "# Neural Nets with Keras\n",
    "## Neural Net on an imbalanced Classification for Credit Card Fraud Detection\n",
    "### Code von https://keras.io/examples/structured_data/imbalanced_classification/"
   ]
  },
  {
   "cell_type": "markdown",
   "metadata": {},
   "source": [
    "### 1. Vectorize CSV data into numpy array"
   ]
  },
  {
   "cell_type": "code",
   "execution_count": 1,
   "metadata": {},
   "outputs": [],
   "source": [
    "# Imports\n",
    "\n",
    "import matplotlib.pyplot as plt\n",
    "import csv\n",
    "import numpy as np\n",
    "from datetime import datetime\n",
    "import os\n",
    "\n",
    "fname = 'creditcard.csv'\n",
    "OUTPUT_DIR = 'models'\n",
    "\n",
    "\n"
   ]
  },
  {
   "cell_type": "code",
   "execution_count": 2,
   "metadata": {},
   "outputs": [
    {
     "name": "stdout",
     "output_type": "stream",
     "text": [
      "HEADER: \"Time\",\"V1\",\"V2\",\"V3\",\"V4\",\"V5\",\"V6\",\"V7\",\"V8\",\"V9\",\"V10\",\"V11\",\"V12\",\"V13\",\"V14\",\"V15\",\"V16\",\"V17\",\"V18\",\"V19\",\"V20\",\"V21\",\"V22\",\"V23\",\"V24\",\"V25\",\"V26\",\"V27\",\"V28\",\"Amount\",\"Class\"\n",
      "EXAMPLE FEATURES: [0.0, -1.3598071336738, -0.0727811733098497, 2.53634673796914, 1.37815522427443, -0.338320769942518, 0.462387777762292, 0.239598554061257, 0.0986979012610507, 0.363786969611213, 0.0907941719789316, -0.551599533260813, -0.617800855762348, -0.991389847235408, -0.311169353699879, 1.46817697209427, -0.470400525259478, 0.207971241929242, 0.0257905801985591, 0.403992960255733, 0.251412098239705, -0.018306777944153, 0.277837575558899, -0.110473910188767, 0.0669280749146731, 0.128539358273528, -0.189114843888824, 0.133558376740387, -0.0210530534538215, 149.62]\n",
      "features.shape: (284807, 30)\n",
      "targets.shape: (284807, 1)\n"
     ]
    }
   ],
   "source": [
    "all_features = []\n",
    "all_targets = []\n",
    "with open(fname) as f:\n",
    "    for i, line in enumerate(f):\n",
    "        if i == 0:\n",
    "            print('HEADER:', line.strip())\n",
    "            continue  # Skip header\n",
    "        fields = line.strip().split(',')\n",
    "        all_features.append([float(v.replace('\"','')) for v in fields[:-1]])\n",
    "        all_targets.append([int(fields[-1].replace('\"', \"\"))])\n",
    "        if i == 1:\n",
    "            print('EXAMPLE FEATURES:', all_features[-1])\n",
    "\n",
    "features = np.array(all_features, dtype='float32')\n",
    "targets = np.array(all_targets, dtype = \"uint8\")\n",
    "print(\"features.shape:\", features.shape)\n",
    "print(\"targets.shape:\", targets.shape)"
   ]
  },
  {
   "cell_type": "markdown",
   "metadata": {},
   "source": [
    "### 2. Prepare a validation set"
   ]
  },
  {
   "cell_type": "code",
   "execution_count": 3,
   "metadata": {},
   "outputs": [],
   "source": [
    "num_val_samples = int(len(features) * 0.2)\n",
    "train_features = features [:-num_val_samples]\n",
    "train_targets = targets [:-num_val_samples]\n",
    "val_features = features[-num_val_samples:]\n",
    "val_targets = targets[-num_val_samples:]"
   ]
  },
  {
   "cell_type": "markdown",
   "metadata": {},
   "source": [
    "### 3. Calculate Class Imbalance"
   ]
  },
  {
   "cell_type": "code",
   "execution_count": 4,
   "metadata": {},
   "outputs": [
    {
     "name": "stdout",
     "output_type": "stream",
     "text": [
      "Number of positive samples in training data: 417 (0.183% of total)\n"
     ]
    }
   ],
   "source": [
    "counts = np.bincount(train_targets[:,0])\n",
    "print(\n",
    "    'Number of positive samples in training data: {} ({:.3f}% of total)'.format(\n",
    "        counts[1], 100 * float(counts[1]) / len(train_targets)\n",
    "    )\n",
    ")\n",
    "\n",
    "weights_for_0 = 1.0 / counts[0]\n",
    "weight_for_1 = 1.0 / counts[1]"
   ]
  },
  {
   "cell_type": "markdown",
   "metadata": {},
   "source": [
    "### 4. Normalize the data using training set statistics"
   ]
  },
  {
   "cell_type": "code",
   "execution_count": 5,
   "metadata": {},
   "outputs": [],
   "source": [
    "mean = np.mean(train_features, axis = 0)\n",
    "train_features -= mean\n",
    "val_features -= mean\n",
    "std = np.std(train_features,axis = 0)\n",
    "train_features /= std\n",
    "val_features /= std"
   ]
  },
  {
   "cell_type": "markdown",
   "metadata": {},
   "source": [
    "### 5. Build a binary classification model"
   ]
  },
  {
   "cell_type": "code",
   "execution_count": 6,
   "metadata": {},
   "outputs": [
    {
     "name": "stdout",
     "output_type": "stream",
     "text": [
      "Metal device set to: Apple M1 Pro\n",
      "\n",
      "systemMemory: 16.00 GB\n",
      "maxCacheSize: 5.33 GB\n",
      "\n",
      "Model: \"sequential\"\n",
      "_________________________________________________________________\n",
      " Layer (type)                Output Shape              Param #   \n",
      "=================================================================\n",
      " dense (Dense)               (None, 256)               7936      \n",
      "                                                                 \n",
      " dense_1 (Dense)             (None, 256)               65792     \n",
      "                                                                 \n",
      " dropout (Dropout)           (None, 256)               0         \n",
      "                                                                 \n",
      " dense_2 (Dense)             (None, 256)               65792     \n",
      "                                                                 \n",
      " dropout_1 (Dropout)         (None, 256)               0         \n",
      "                                                                 \n",
      " dense_3 (Dense)             (None, 1)                 257       \n",
      "                                                                 \n",
      "=================================================================\n",
      "Total params: 139,777\n",
      "Trainable params: 139,777\n",
      "Non-trainable params: 0\n",
      "_________________________________________________________________\n"
     ]
    },
    {
     "name": "stderr",
     "output_type": "stream",
     "text": [
      "2022-10-23 13:13:29.311455: I tensorflow/core/common_runtime/pluggable_device/pluggable_device_factory.cc:305] Could not identify NUMA node of platform GPU ID 0, defaulting to 0. Your kernel may not have been built with NUMA support.\n",
      "2022-10-23 13:13:29.311558: I tensorflow/core/common_runtime/pluggable_device/pluggable_device_factory.cc:271] Created TensorFlow device (/job:localhost/replica:0/task:0/device:GPU:0 with 0 MB memory) -> physical PluggableDevice (device: 0, name: METAL, pci bus id: <undefined>)\n"
     ]
    }
   ],
   "source": [
    "import tensorflow as tf\n",
    "\n",
    "model = tf.keras.Sequential(\n",
    "    [\n",
    "        tf.keras.layers.Dense(\n",
    "            256, activation='relu', input_shape=(train_features.shape[-1],)\n",
    "        ),\n",
    "        tf.keras.layers.Dense(256, activation = 'relu'),\n",
    "        tf.keras.layers.Dropout(0.3),\n",
    "        tf.keras.layers.Dense(256, activation = 'relu'),\n",
    "        tf.keras.layers.Dropout(0.3),\n",
    "        tf.keras.layers.Dense(1, activation = 'sigmoid')]\n",
    "        \n",
    ")\n",
    "model.summary()"
   ]
  },
  {
   "cell_type": "markdown",
   "metadata": {},
   "source": [
    "### 6. Train the model with *class_weight* argument"
   ]
  },
  {
   "cell_type": "code",
   "execution_count": 11,
   "metadata": {},
   "outputs": [
    {
     "name": "stdout",
     "output_type": "stream",
     "text": [
      "Start_Time (Y/M/D-H/M/S): 22/10/23 - 13:28:04\n",
      "Epoch 1/30\n"
     ]
    },
    {
     "name": "stderr",
     "output_type": "stream",
     "text": [
      "2022-10-23 13:28:05.092724: I tensorflow/core/grappler/optimizers/custom_graph_optimizer_registry.cc:113] Plugin optimizer for device_type GPU is enabled.\n"
     ]
    },
    {
     "name": "stdout",
     "output_type": "stream",
     "text": [
      "112/112 [==============================] - ETA: 0s - loss: 6.4727e-08 - fn: 0.0000e+00 - fp: 828.0000 - tn: 226601.0000 - tp: 417.0000 - precision: 0.3349 - recall: 1.0000"
     ]
    },
    {
     "name": "stderr",
     "output_type": "stream",
     "text": [
      "2022-10-23 13:28:07.680593: I tensorflow/core/grappler/optimizers/custom_graph_optimizer_registry.cc:113] Plugin optimizer for device_type GPU is enabled.\n"
     ]
    },
    {
     "name": "stdout",
     "output_type": "stream",
     "text": [
      "112/112 [==============================] - 3s 25ms/step - loss: 6.4727e-08 - fn: 0.0000e+00 - fp: 828.0000 - tn: 226601.0000 - tp: 417.0000 - precision: 0.3349 - recall: 1.0000 - val_loss: 0.0080 - val_fn: 12.0000 - val_fp: 79.0000 - val_tn: 56807.0000 - val_tp: 63.0000 - val_precision: 0.4437 - val_recall: 0.8400\n",
      "Epoch 2/30\n",
      "112/112 [==============================] - 2s 21ms/step - loss: 8.1900e-08 - fn: 2.0000 - fp: 821.0000 - tn: 226608.0000 - tp: 415.0000 - precision: 0.3358 - recall: 0.9952 - val_loss: 0.0079 - val_fn: 12.0000 - val_fp: 78.0000 - val_tn: 56808.0000 - val_tp: 63.0000 - val_precision: 0.4468 - val_recall: 0.8400\n",
      "Epoch 3/30\n",
      "112/112 [==============================] - 2s 21ms/step - loss: 5.8388e-08 - fn: 0.0000e+00 - fp: 793.0000 - tn: 226636.0000 - tp: 417.0000 - precision: 0.3446 - recall: 1.0000 - val_loss: 0.0077 - val_fn: 12.0000 - val_fp: 69.0000 - val_tn: 56817.0000 - val_tp: 63.0000 - val_precision: 0.4773 - val_recall: 0.8400\n",
      "Epoch 4/30\n",
      "112/112 [==============================] - 2s 21ms/step - loss: 6.1532e-08 - fn: 0.0000e+00 - fp: 754.0000 - tn: 226675.0000 - tp: 417.0000 - precision: 0.3561 - recall: 1.0000 - val_loss: 0.0077 - val_fn: 12.0000 - val_fp: 66.0000 - val_tn: 56820.0000 - val_tp: 63.0000 - val_precision: 0.4884 - val_recall: 0.8400\n",
      "Epoch 5/30\n",
      "112/112 [==============================] - 2s 21ms/step - loss: 5.9077e-08 - fn: 0.0000e+00 - fp: 702.0000 - tn: 226727.0000 - tp: 417.0000 - precision: 0.3727 - recall: 1.0000 - val_loss: 0.0078 - val_fn: 11.0000 - val_fp: 69.0000 - val_tn: 56817.0000 - val_tp: 64.0000 - val_precision: 0.4812 - val_recall: 0.8533\n",
      "Epoch 6/30\n",
      "112/112 [==============================] - 2s 21ms/step - loss: 4.9520e-08 - fn: 0.0000e+00 - fp: 675.0000 - tn: 226754.0000 - tp: 417.0000 - precision: 0.3819 - recall: 1.0000 - val_loss: 0.0077 - val_fn: 11.0000 - val_fp: 64.0000 - val_tn: 56822.0000 - val_tp: 64.0000 - val_precision: 0.5000 - val_recall: 0.8533\n",
      "Epoch 7/30\n",
      "112/112 [==============================] - 2s 21ms/step - loss: 5.4918e-08 - fn: 0.0000e+00 - fp: 639.0000 - tn: 226790.0000 - tp: 417.0000 - precision: 0.3949 - recall: 1.0000 - val_loss: 0.0076 - val_fn: 11.0000 - val_fp: 63.0000 - val_tn: 56823.0000 - val_tp: 64.0000 - val_precision: 0.5039 - val_recall: 0.8533\n",
      "Epoch 8/30\n",
      "112/112 [==============================] - 2s 21ms/step - loss: 4.8242e-08 - fn: 0.0000e+00 - fp: 613.0000 - tn: 226816.0000 - tp: 417.0000 - precision: 0.4049 - recall: 1.0000 - val_loss: 0.0076 - val_fn: 12.0000 - val_fp: 61.0000 - val_tn: 56825.0000 - val_tp: 63.0000 - val_precision: 0.5081 - val_recall: 0.8400\n",
      "Epoch 9/30\n",
      "112/112 [==============================] - 2s 21ms/step - loss: 5.4420e-08 - fn: 0.0000e+00 - fp: 561.0000 - tn: 226868.0000 - tp: 417.0000 - precision: 0.4264 - recall: 1.0000 - val_loss: 0.0077 - val_fn: 11.0000 - val_fp: 57.0000 - val_tn: 56829.0000 - val_tp: 64.0000 - val_precision: 0.5289 - val_recall: 0.8533\n",
      "Epoch 10/30\n",
      "112/112 [==============================] - 2s 21ms/step - loss: 4.4544e-08 - fn: 0.0000e+00 - fp: 568.0000 - tn: 226861.0000 - tp: 417.0000 - precision: 0.4234 - recall: 1.0000 - val_loss: 0.0077 - val_fn: 12.0000 - val_fp: 55.0000 - val_tn: 56831.0000 - val_tp: 63.0000 - val_precision: 0.5339 - val_recall: 0.8400\n",
      "Epoch 11/30\n",
      "112/112 [==============================] - 2s 21ms/step - loss: 4.8847e-08 - fn: 0.0000e+00 - fp: 565.0000 - tn: 226864.0000 - tp: 417.0000 - precision: 0.4246 - recall: 1.0000 - val_loss: 0.0077 - val_fn: 12.0000 - val_fp: 53.0000 - val_tn: 56833.0000 - val_tp: 63.0000 - val_precision: 0.5431 - val_recall: 0.8400\n",
      "Epoch 12/30\n",
      "112/112 [==============================] - 2s 21ms/step - loss: 4.6815e-08 - fn: 0.0000e+00 - fp: 545.0000 - tn: 226884.0000 - tp: 417.0000 - precision: 0.4335 - recall: 1.0000 - val_loss: 0.0077 - val_fn: 13.0000 - val_fp: 52.0000 - val_tn: 56834.0000 - val_tp: 62.0000 - val_precision: 0.5439 - val_recall: 0.8267\n",
      "Epoch 13/30\n",
      "112/112 [==============================] - 2s 21ms/step - loss: 4.4385e-08 - fn: 0.0000e+00 - fp: 478.0000 - tn: 226951.0000 - tp: 417.0000 - precision: 0.4659 - recall: 1.0000 - val_loss: 0.0077 - val_fn: 14.0000 - val_fp: 52.0000 - val_tn: 56834.0000 - val_tp: 61.0000 - val_precision: 0.5398 - val_recall: 0.8133\n",
      "Epoch 14/30\n",
      "112/112 [==============================] - 2s 21ms/step - loss: 5.6594e-08 - fn: 1.0000 - fp: 479.0000 - tn: 226950.0000 - tp: 416.0000 - precision: 0.4648 - recall: 0.9976 - val_loss: 0.0078 - val_fn: 14.0000 - val_fp: 55.0000 - val_tn: 56831.0000 - val_tp: 61.0000 - val_precision: 0.5259 - val_recall: 0.8133\n",
      "Epoch 15/30\n",
      "112/112 [==============================] - 2s 21ms/step - loss: 4.6104e-08 - fn: 0.0000e+00 - fp: 468.0000 - tn: 226961.0000 - tp: 417.0000 - precision: 0.4712 - recall: 1.0000 - val_loss: 0.0079 - val_fn: 12.0000 - val_fp: 59.0000 - val_tn: 56827.0000 - val_tp: 63.0000 - val_precision: 0.5164 - val_recall: 0.8400\n",
      "Epoch 16/30\n",
      "112/112 [==============================] - 2s 21ms/step - loss: 3.9834e-08 - fn: 0.0000e+00 - fp: 489.0000 - tn: 226940.0000 - tp: 417.0000 - precision: 0.4603 - recall: 1.0000 - val_loss: 0.0079 - val_fn: 13.0000 - val_fp: 54.0000 - val_tn: 56832.0000 - val_tp: 62.0000 - val_precision: 0.5345 - val_recall: 0.8267\n",
      "Epoch 17/30\n",
      "112/112 [==============================] - 2s 20ms/step - loss: 3.6361e-08 - fn: 0.0000e+00 - fp: 504.0000 - tn: 226925.0000 - tp: 417.0000 - precision: 0.4528 - recall: 1.0000 - val_loss: 0.0080 - val_fn: 13.0000 - val_fp: 53.0000 - val_tn: 56833.0000 - val_tp: 62.0000 - val_precision: 0.5391 - val_recall: 0.8267\n",
      "Epoch 18/30\n",
      "112/112 [==============================] - 2s 21ms/step - loss: 5.1594e-08 - fn: 1.0000 - fp: 475.0000 - tn: 226954.0000 - tp: 416.0000 - precision: 0.4669 - recall: 0.9976 - val_loss: 0.0079 - val_fn: 14.0000 - val_fp: 54.0000 - val_tn: 56832.0000 - val_tp: 61.0000 - val_precision: 0.5304 - val_recall: 0.8133\n",
      "Epoch 19/30\n",
      "112/112 [==============================] - 2s 21ms/step - loss: 5.2684e-08 - fn: 1.0000 - fp: 483.0000 - tn: 226946.0000 - tp: 416.0000 - precision: 0.4627 - recall: 0.9976 - val_loss: 0.0087 - val_fn: 13.0000 - val_fp: 64.0000 - val_tn: 56822.0000 - val_tp: 62.0000 - val_precision: 0.4921 - val_recall: 0.8267\n",
      "Epoch 20/30\n",
      "112/112 [==============================] - 2s 21ms/step - loss: 3.8796e-08 - fn: 0.0000e+00 - fp: 470.0000 - tn: 226959.0000 - tp: 417.0000 - precision: 0.4701 - recall: 1.0000 - val_loss: 0.0085 - val_fn: 13.0000 - val_fp: 59.0000 - val_tn: 56827.0000 - val_tp: 62.0000 - val_precision: 0.5124 - val_recall: 0.8267\n",
      "Epoch 21/30\n",
      "112/112 [==============================] - 2s 21ms/step - loss: 3.8089e-08 - fn: 0.0000e+00 - fp: 434.0000 - tn: 226995.0000 - tp: 417.0000 - precision: 0.4900 - recall: 1.0000 - val_loss: 0.0085 - val_fn: 13.0000 - val_fp: 57.0000 - val_tn: 56829.0000 - val_tp: 62.0000 - val_precision: 0.5210 - val_recall: 0.8267\n",
      "Epoch 22/30\n",
      "112/112 [==============================] - 2s 21ms/step - loss: 3.6132e-08 - fn: 0.0000e+00 - fp: 427.0000 - tn: 227002.0000 - tp: 417.0000 - precision: 0.4941 - recall: 1.0000 - val_loss: 0.0085 - val_fn: 13.0000 - val_fp: 54.0000 - val_tn: 56832.0000 - val_tp: 62.0000 - val_precision: 0.5345 - val_recall: 0.8267\n",
      "Epoch 23/30\n",
      "112/112 [==============================] - 2s 21ms/step - loss: 3.2525e-08 - fn: 0.0000e+00 - fp: 390.0000 - tn: 227039.0000 - tp: 417.0000 - precision: 0.5167 - recall: 1.0000 - val_loss: 0.0084 - val_fn: 14.0000 - val_fp: 53.0000 - val_tn: 56833.0000 - val_tp: 61.0000 - val_precision: 0.5351 - val_recall: 0.8133\n",
      "Epoch 24/30\n",
      "112/112 [==============================] - 2s 20ms/step - loss: 3.7176e-08 - fn: 0.0000e+00 - fp: 408.0000 - tn: 227021.0000 - tp: 417.0000 - precision: 0.5055 - recall: 1.0000 - val_loss: 0.0083 - val_fn: 14.0000 - val_fp: 52.0000 - val_tn: 56834.0000 - val_tp: 61.0000 - val_precision: 0.5398 - val_recall: 0.8133\n",
      "Epoch 25/30\n",
      "112/112 [==============================] - 2s 21ms/step - loss: 3.5128e-08 - fn: 0.0000e+00 - fp: 383.0000 - tn: 227046.0000 - tp: 417.0000 - precision: 0.5213 - recall: 1.0000 - val_loss: 0.0083 - val_fn: 14.0000 - val_fp: 51.0000 - val_tn: 56835.0000 - val_tp: 61.0000 - val_precision: 0.5446 - val_recall: 0.8133\n",
      "Epoch 26/30\n",
      "112/112 [==============================] - 2s 21ms/step - loss: 3.3406e-08 - fn: 0.0000e+00 - fp: 362.0000 - tn: 227067.0000 - tp: 417.0000 - precision: 0.5353 - recall: 1.0000 - val_loss: 0.0083 - val_fn: 14.0000 - val_fp: 50.0000 - val_tn: 56836.0000 - val_tp: 61.0000 - val_precision: 0.5495 - val_recall: 0.8133\n",
      "Epoch 27/30\n",
      "112/112 [==============================] - 2s 21ms/step - loss: 3.0168e-08 - fn: 0.0000e+00 - fp: 354.0000 - tn: 227075.0000 - tp: 417.0000 - precision: 0.5409 - recall: 1.0000 - val_loss: 0.0084 - val_fn: 14.0000 - val_fp: 45.0000 - val_tn: 56841.0000 - val_tp: 61.0000 - val_precision: 0.5755 - val_recall: 0.8133\n",
      "Epoch 28/30\n",
      "112/112 [==============================] - 2s 20ms/step - loss: 3.3064e-08 - fn: 0.0000e+00 - fp: 350.0000 - tn: 227079.0000 - tp: 417.0000 - precision: 0.5437 - recall: 1.0000 - val_loss: 0.0084 - val_fn: 14.0000 - val_fp: 44.0000 - val_tn: 56842.0000 - val_tp: 61.0000 - val_precision: 0.5810 - val_recall: 0.8133\n",
      "Epoch 29/30\n",
      "112/112 [==============================] - 2s 21ms/step - loss: 4.9954e-08 - fn: 1.0000 - fp: 347.0000 - tn: 227082.0000 - tp: 416.0000 - precision: 0.5452 - recall: 0.9976 - val_loss: 0.0083 - val_fn: 14.0000 - val_fp: 45.0000 - val_tn: 56841.0000 - val_tp: 61.0000 - val_precision: 0.5755 - val_recall: 0.8133\n",
      "Epoch 30/30\n",
      "112/112 [==============================] - 2s 20ms/step - loss: 3.0389e-08 - fn: 0.0000e+00 - fp: 354.0000 - tn: 227075.0000 - tp: 417.0000 - precision: 0.5409 - recall: 1.0000 - val_loss: 0.0083 - val_fn: 14.0000 - val_fp: 38.0000 - val_tn: 56848.0000 - val_tp: 61.0000 - val_precision: 0.6162 - val_recall: 0.8133\n"
     ]
    },
    {
     "data": {
      "image/png": "[encoded data removed]",
      "text/plain": [
       "<Figure size 1080x720 with 1 Axes>"
      ]
     },
     "metadata": {
      "needs_background": "light"
     },
     "output_type": "display_data"
    }
   ],
   "source": [
    "metrics1 = [\n",
    "    tf.keras.metrics.FalseNegatives(name='fn'),\n",
    "    tf.keras.metrics.FalsePositives(name='fp'),\n",
    "    tf.keras.metrics.TrueNegatives(name='tn'),\n",
    "    tf.keras.metrics.TruePositives(name='tp'),\n",
    "    tf.keras.metrics.Precision(name='precision'),\n",
    "    tf.keras.metrics.Recall(name='recall')\n",
    "]\n",
    "\n",
    "metrics2 = [\n",
    "    tf.keras.metrics.AUC(\n",
    "    num_thresholds=200,\n",
    "    curve=\"ROC\",\n",
    "    summation_method=\"interpolation\",\n",
    "    name=None,\n",
    "    dtype=None,\n",
    "    thresholds=None,\n",
    "    multi_label=False,\n",
    "    num_labels=None,\n",
    "    label_weights=None,\n",
    "    from_logits=False,\n",
    ")\n",
    "]\n",
    "\n",
    "model.compile(\n",
    "    optimizer=tf.keras.optimizers.Adam(1e-3), loss ='binary_crossentropy', metrics=metrics1\n",
    ")\n",
    "\n",
    "START_TIME = datetime.now().strftime(\"%y%m%d-%H%M\")\n",
    "print('Start_Time (Y/M/D-H/M/S): {}'.format(datetime.now().strftime(\"%y/%m/%d - %H:%M:%S\")))\n",
    "OUTPUT_PATH = os.path.join(OUTPUT_DIR, START_TIME)\n",
    "CHECKPOINT_DIR = os.path.join(OUTPUT_PATH, \"Epoch-Checkpoints\")\n",
    "MODEL_DIR = os.path.join(OUTPUT_PATH, \"Best-Epoch\")\n",
    "\n",
    "callbacks = [tf.keras.callbacks.ModelCheckpoint('modelcheckpoints/fraud_model_epoch{epoch}.h5')]\n",
    "class_weight = {0: weights_for_0*1.05, 1: weight_for_1*0.95}\n",
    "\n",
    "history = model.fit(\n",
    "    train_features,\n",
    "    train_targets,\n",
    "    batch_size=2048,\n",
    "    epochs=30,\n",
    "    verbose=1,\n",
    "    callbacks=callbacks,\n",
    "    validation_data=(val_features, val_targets),\n",
    "    class_weight=class_weight,\n",
    ")\n",
    "\n",
    "model.save(OUTPUT_PATH + \".h5\", save_format=\"h5\")\n",
    "\n",
    "plt.figure(figsize=(15, 10))\n",
    "plt.title('training history')\n",
    "plt.plot(history.history[\"val_fn\"], label='val_fn')\n",
    "plt.plot(history.history[\"val_fp\"], label='val_fp')\n",
    "plt.plot(history.history[\"precision\"], label='precision')\n",
    "plt.plot(history.history[\"recall\"], label='recall')\n",
    "plt.xlabel(\"epoch\")\n",
    "plt.ylabel(\"False Positives\")\n",
    "# plt.legend([\"fn\", \"fp\", \"precision\", \"recall\"], loc=\"upper left\")\n",
    "plt.legend()\n",
    "plt.savefig(OUTPUT_PATH + \".jpg\", bbox_inches='tight')\n",
    "\n",
    "# plt.figure(figsize=(15, 10))\n",
    "# plt.title(\"Training History\")\n",
    "# plt.plot(history.history[\"precision\"])\n",
    "# plt.plot(history.history[\"recall\"])\n",
    "# plt.plot(history.history[\"loss\"])\n",
    "# plt.plot(history.history[\"val_loss\"])\n",
    "# plt.xlabel(\"epoch\")\n",
    "# plt.ylabel(\"accuracy/loss\")\n",
    "# plt.legend([\"precision\", \"recall\", \"loss\", \"val_loss\"], loc=\"upper left\")\n",
    "# plt.savefig(OUTPUT_PATH + \".png\")"
   ]
  },
  {
   "cell_type": "code",
   "execution_count": null,
   "metadata": {},
   "outputs": [],
   "source": []
  }
 ],
 "metadata": {
  "kernelspec": {
   "display_name": "Python 3.9.10 ('base')",
   "language": "python",
   "name": "python3"
  },
  "language_info": {
   "codemirror_mode": {
    "name": "ipython",
    "version": 3
   },
   "file_extension": ".py",
   "mimetype": "text/x-python",
   "name": "python",
   "nbconvert_exporter": "python",
   "pygments_lexer": "ipython3",
   "version": "3.9.10"
  },
  "orig_nbformat": 4,
  "vscode": {
   "interpreter": {
    "hash": "c6e4e9f98eb68ad3b7c296f83d20e6de614cb42e90992a65aa266555a3137d0d"
   }
  }
 },
 "nbformat": 4,
 "nbformat_minor": 2
}
